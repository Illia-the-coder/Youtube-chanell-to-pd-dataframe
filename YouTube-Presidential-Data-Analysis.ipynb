{
 "cells": [
  {
   "cell_type": "markdown",
   "id": "5647ddaf",
   "metadata": {
    "papermill": {
     "duration": 0.010121,
     "end_time": "2023-04-06T13:59:38.596394",
     "exception": false,
     "start_time": "2023-04-06T13:59:38.586273",
     "status": "completed"
    },
    "tags": []
   },
   "source": [
    "## Loading data from youtube chanell"
   ]
  },
  {
   "cell_type": "markdown",
   "id": "02b61cb3",
   "metadata": {
    "papermill": {
     "duration": 0.00886,
     "end_time": "2023-04-06T13:59:38.614376",
     "exception": false,
     "start_time": "2023-04-06T13:59:38.605516",
     "status": "completed"
    },
    "tags": []
   },
   "source": [
    "This project is based on Dataframe of videos from official youtube chanell of your president."
   ]
  },
  {
   "cell_type": "markdown",
   "id": "dfd58f39",
   "metadata": {
    "papermill": {
     "duration": 0.008625,
     "end_time": "2023-04-06T13:59:38.632123",
     "exception": false,
     "start_time": "2023-04-06T13:59:38.623498",
     "status": "completed"
    },
    "tags": []
   },
   "source": [
    "### Importing Required Libraries\n",
    "\n",
    "To begin, we need to import the necessary libraries. We'll be using the `googleapiclient.discovery` library to access the YouTube Data API, the `pandas` library to create a DataFrame, and the `build` function provided by the `googleapiclient.discovery` library."
   ]
  },
  {
   "cell_type": "code",
   "execution_count": 1,
   "id": "0fc0d37e",
   "metadata": {
    "execution": {
     "iopub.execute_input": "2023-04-06T13:59:38.653100Z",
     "iopub.status.busy": "2023-04-06T13:59:38.652132Z",
     "iopub.status.idle": "2023-04-06T13:59:39.083295Z",
     "shell.execute_reply": "2023-04-06T13:59:39.081605Z"
    },
    "papermill": {
     "duration": 0.445203,
     "end_time": "2023-04-06T13:59:39.086454",
     "exception": false,
     "start_time": "2023-04-06T13:59:38.641251",
     "status": "completed"
    },
    "tags": []
   },
   "outputs": [],
   "source": [
    "import googleapiclient.discovery\n",
    "from googleapiclient.discovery import build\n",
    "import googleapiclient.errors\n",
    "import pandas as pd"
   ]
  },
  {
   "cell_type": "markdown",
   "id": "74258b7b",
   "metadata": {
    "papermill": {
     "duration": 0.008771,
     "end_time": "2023-04-06T13:59:39.104465",
     "exception": false,
     "start_time": "2023-04-06T13:59:39.095694",
     "status": "completed"
    },
    "tags": []
   },
   "source": [
    "### Retrieving Playlist Name\n",
    "\n",
    "The `get_playlist_name` function retrieves the name of a YouTube playlist given its ID. It requires two parameters: `api_key`, which is your YouTube Data API key, and `playlist_id`, which is the ID of the playlist you want to retrieve."
   ]
  },
  {
   "cell_type": "code",
   "execution_count": 2,
   "id": "92b6a9ed",
   "metadata": {
    "execution": {
     "iopub.execute_input": "2023-04-06T13:59:39.126942Z",
     "iopub.status.busy": "2023-04-06T13:59:39.126045Z",
     "iopub.status.idle": "2023-04-06T13:59:39.133902Z",
     "shell.execute_reply": "2023-04-06T13:59:39.132566Z"
    },
    "papermill": {
     "duration": 0.02098,
     "end_time": "2023-04-06T13:59:39.136199",
     "exception": false,
     "start_time": "2023-04-06T13:59:39.115219",
     "status": "completed"
    },
    "tags": []
   },
   "outputs": [],
   "source": [
    "def get_playlist_name(api_key, playlist_id):\n",
    "    youtube = build('youtube', 'v3', developerKey=api_key)\n",
    "\n",
    "    request = youtube.playlists().list(\n",
    "        part=\"snippet\",\n",
    "        id=playlist_id\n",
    "    )\n",
    "    response = request.execute()\n",
    "\n",
    "    if response.get(\"items\"):\n",
    "        playlist_name = response[\"items\"][0][\"snippet\"][\"title\"]\n",
    "        return playlist_name\n",
    "    else:\n",
    "        return None\n"
   ]
  },
  {
   "cell_type": "markdown",
   "id": "b545b494",
   "metadata": {
    "papermill": {
     "duration": 0.008584,
     "end_time": "2023-04-06T13:59:39.153766",
     "exception": false,
     "start_time": "2023-04-06T13:59:39.145182",
     "status": "completed"
    },
    "tags": []
   },
   "source": [
    "### Retrieving Channel Videos\n",
    "\n",
    "The `get_channel_videos` function retrieves all videos uploaded to a YouTube channel. It requires two parameters: `api_key`, which is your YouTube Data API key, and `channel_id`, which is the ID of the channel you want to retrieve videos from."
   ]
  },
  {
   "cell_type": "code",
   "execution_count": 3,
   "id": "0553fcc8",
   "metadata": {
    "execution": {
     "iopub.execute_input": "2023-04-06T13:59:39.174587Z",
     "iopub.status.busy": "2023-04-06T13:59:39.174187Z",
     "iopub.status.idle": "2023-04-06T13:59:39.182901Z",
     "shell.execute_reply": "2023-04-06T13:59:39.181472Z"
    },
    "papermill": {
     "duration": 0.021374,
     "end_time": "2023-04-06T13:59:39.185148",
     "exception": false,
     "start_time": "2023-04-06T13:59:39.163774",
     "status": "completed"
    },
    "tags": []
   },
   "outputs": [],
   "source": [
    "def get_channel_videos(api_key, channel_id):\n",
    "    youtube = googleapiclient.discovery.build(\"youtube\", \"v3\", developerKey=api_key)\n",
    "\n",
    "    # Get the playlist ID of the channel's uploaded videos.\n",
    "    channel_response = youtube.channels().list(\n",
    "        part=\"contentDetails\",\n",
    "        id=channel_id\n",
    "    ).execute()\n",
    "\n",
    "    playlist_id = channel_response[\"items\"][0][\"contentDetails\"][\"relatedPlaylists\"][\"uploads\"]\n",
    "\n",
    "    # Get all videos in the uploads playlist.\n",
    "    videos = []\n",
    "    ids=[]\n",
    "    next_page_token = None\n",
    "\n",
    "    while True:\n",
    "        playlist_items_response = youtube.playlistItems().list(\n",
    "            part=\"snippet\",\n",
    "            maxResults=4000,\n",
    "            playlistId=playlist_id,\n",
    "            pageToken=next_page_token\n",
    "        ).execute()\n",
    "        videos.extend(playlist_items_response[\"items\"])\n",
    "        next_page_token = playlist_items_response.get(\"nextPageToken\")\n",
    "        if next_page_token is None:\n",
    "            break\n",
    "\n",
    "    return videos\n"
   ]
  },
  {
   "cell_type": "markdown",
   "id": "9aa1c1e7",
   "metadata": {
    "papermill": {
     "duration": 0.008644,
     "end_time": "2023-04-06T13:59:39.202869",
     "exception": false,
     "start_time": "2023-04-06T13:59:39.194225",
     "status": "completed"
    },
    "tags": []
   },
   "source": [
    "### Creating Videos DataFrame\n",
    "\n",
    "The `create_videos_dataframe` function creates a DataFrame from a list of YouTube videos. It requires one parameter: `videos`, which is a list of videos retrieved using the `get_channel_videos` function."
   ]
  },
  {
   "cell_type": "code",
   "execution_count": 4,
   "id": "086e8596",
   "metadata": {
    "execution": {
     "iopub.execute_input": "2023-04-06T13:59:39.223550Z",
     "iopub.status.busy": "2023-04-06T13:59:39.222741Z",
     "iopub.status.idle": "2023-04-06T13:59:39.227885Z",
     "shell.execute_reply": "2023-04-06T13:59:39.226950Z"
    },
    "papermill": {
     "duration": 0.018204,
     "end_time": "2023-04-06T13:59:39.230467",
     "exception": false,
     "start_time": "2023-04-06T13:59:39.212263",
     "status": "completed"
    },
    "tags": []
   },
   "outputs": [],
   "source": [
    "def create_videos_dataframe(videos):\n",
    "    video_data = []\n",
    "\n",
    "    for video in videos:\n",
    "        video_data.append(video[\"snippet\"])\n",
    "\n",
    "    return pd.DataFrame(video_data)\n"
   ]
  }
 ],
 "metadata": {
  "kernelspec": {
   "display_name": "Python 3",
   "language": "python",
   "name": "python3"
  },
  "language_info": {
   "codemirror_mode": {
    "name": "ipython",
    "version": 3
   },
   "file_extension": ".py",
   "mimetype": "text/x-python",
   "name": "python",
   "nbconvert_exporter": "python",
   "pygments_lexer": "ipython3",
   "version": "3.7.12"
  },
  "papermill": {
   "default_parameters": {},
   "duration": 2353.304661,
   "end_time": "2023-04-06T14:38:40.452606",
   "environment_variables": {},
   "exception": null,
   "input_path": "__notebook__.ipynb",
   "output_path": "__notebook__.ipynb",
   "parameters": {},
   "start_time": "2023-04-06T13:59:27.147945",
   "version": "2.4.0"
  }
 },
 "nbformat": 4,
 "nbformat_minor": 5
}
